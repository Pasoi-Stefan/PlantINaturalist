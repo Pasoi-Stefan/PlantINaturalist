{
 "cells": [
  {
   "cell_type": "code",
   "execution_count": 18,
   "metadata": {},
   "outputs": [
    {
     "name": "stderr",
     "output_type": "stream",
     "text": [
      "GPU available: True (cuda), used: False\n",
      "TPU available: False, using: 0 TPU cores\n",
      "IPU available: False, using: 0 IPUs\n",
      "HPU available: False, using: 0 HPUs\n"
     ]
    },
    {
     "name": "stdout",
     "output_type": "stream",
     "text": [
      "The autoreload extension is already loaded. To reload it, use:\n",
      "  %reload_ext autoreload\n"
     ]
    },
    {
     "name": "stderr",
     "output_type": "stream",
     "text": [
      "c:\\Users\\Gamer2\\miniconda3\\envs\\test-pytorch\\lib\\site-packages\\pytorch_lightning\\trainer\\setup.py:175: PossibleUserWarning: GPU available but not used. Set `accelerator` and `devices` using `Trainer(accelerator='gpu', devices=1)`.\n",
      "  rank_zero_warn(\n",
      "\n",
      "  | Name  | Type        | Params\n",
      "--------------------------------------\n",
      "0 | model | MobileNetV2 | 2.5 M \n",
      "--------------------------------------\n",
      "1.2 M     Trainable params\n",
      "1.3 M     Non-trainable params\n",
      "2.5 M     Total params\n",
      "10.176    Total estimated model params size (MB)\n"
     ]
    },
    {
     "name": "stdout",
     "output_type": "stream",
     "text": [
      "Sanity Checking DataLoader 0:   0%|          | 0/2 [00:00<?, ?it/s]"
     ]
    },
    {
     "name": "stderr",
     "output_type": "stream",
     "text": [
      "c:\\Users\\Gamer2\\miniconda3\\envs\\test-pytorch\\lib\\site-packages\\pytorch_lightning\\trainer\\connectors\\data_connector.py:224: PossibleUserWarning: The dataloader, val_dataloader 0, does not have many workers which may be a bottleneck. Consider increasing the value of the `num_workers` argument` (try 16 which is the number of cpus on this machine) in the `DataLoader` init to improve performance.\n",
      "  rank_zero_warn(\n"
     ]
    },
    {
     "name": "stdout",
     "output_type": "stream",
     "text": [
      "                                                                           "
     ]
    },
    {
     "name": "stderr",
     "output_type": "stream",
     "text": [
      "c:\\Users\\Gamer2\\miniconda3\\envs\\test-pytorch\\lib\\site-packages\\pytorch_lightning\\trainer\\connectors\\data_connector.py:224: PossibleUserWarning: The dataloader, train_dataloader, does not have many workers which may be a bottleneck. Consider increasing the value of the `num_workers` argument` (try 16 which is the number of cpus on this machine) in the `DataLoader` init to improve performance.\n",
      "  rank_zero_warn(\n"
     ]
    },
    {
     "name": "stdout",
     "output_type": "stream",
     "text": [
      "Epoch 0:   0%|          | 1/392 [00:01<08:28,  1.30s/it, loss=5.59, v_num=31, train_acc_step=0.000, train_loss_step=5.590, train_acc_epoch=0.000, train_loss_epoch=5.590]"
     ]
    },
    {
     "name": "stderr",
     "output_type": "stream",
     "text": [
      "`Trainer.fit` stopped: `max_steps=1` reached.\n"
     ]
    },
    {
     "name": "stdout",
     "output_type": "stream",
     "text": [
      "Epoch 0:   0%|          | 1/392 [00:01<10:58,  1.68s/it, loss=5.59, v_num=31, train_acc_step=0.000, train_loss_step=5.590, train_acc_epoch=0.000, train_loss_epoch=5.590]\n"
     ]
    },
    {
     "data": {
      "text/plain": [
       "================================================================================\n",
       "Layer (type:depth-idx)                                  Param #\n",
       "================================================================================\n",
       "PlantINaturalist2021FinetuneMobileNetv2                 --\n",
       "├─MobileNetV2: 1-1                                      --\n",
       "│    └─Sequential: 2-1                                  --\n",
       "│    │    └─Conv2dNormActivation: 3-1                   (928)\n",
       "│    │    └─InvertedResidual: 3-2                       (896)\n",
       "│    │    └─InvertedResidual: 3-3                       (5,136)\n",
       "│    │    └─InvertedResidual: 3-4                       (8,832)\n",
       "│    │    └─InvertedResidual: 3-5                       (10,000)\n",
       "│    │    └─InvertedResidual: 3-6                       (14,848)\n",
       "│    │    └─InvertedResidual: 3-7                       (14,848)\n",
       "│    │    └─InvertedResidual: 3-8                       (21,056)\n",
       "│    │    └─InvertedResidual: 3-9                       (54,272)\n",
       "│    │    └─InvertedResidual: 3-10                      (54,272)\n",
       "│    │    └─InvertedResidual: 3-11                      (54,272)\n",
       "│    │    └─InvertedResidual: 3-12                      (66,624)\n",
       "│    │    └─InvertedResidual: 3-13                      (118,272)\n",
       "│    │    └─InvertedResidual: 3-14                      (118,272)\n",
       "│    │    └─InvertedResidual: 3-15                      (155,264)\n",
       "│    │    └─InvertedResidual: 3-16                      (320,000)\n",
       "│    │    └─InvertedResidual: 3-17                      (320,000)\n",
       "│    │    └─InvertedResidual: 3-18                      473,920\n",
       "│    │    └─Conv2dNormActivation: 3-19                  412,160\n",
       "│    └─Sequential: 2-2                                  --\n",
       "│    │    └─Dropout: 3-20                               --\n",
       "│    │    └─Linear: 3-21                                320,250\n",
       "================================================================================\n",
       "Total params: 2,544,122\n",
       "Trainable params: 1,206,330\n",
       "Non-trainable params: 1,337,792\n",
       "================================================================================"
      ]
     },
     "execution_count": 18,
     "metadata": {},
     "output_type": "execute_result"
    }
   ],
   "source": [
    "\n",
    "%load_ext autoreload\n",
    "%autoreload 2\n",
    "\n",
    "\n",
    "import pytorch_lightning as pl\n",
    "import torchinfo\n",
    "import torchvision.transforms as transforms\n",
    "\n",
    "from PlantINaturalist2021DataModule import PlantINaturalist2021DataModule\n",
    "from PlantINaturalist2021FinetuneMobileNetv2 import PlantINaturalist2021FinetuneMobileNetv2, TRANSFORM2\n",
    "\n",
    "config = {\n",
    "    \"model_name\": PlantINaturalist2021FinetuneMobileNetv2.__name__,\n",
    "    \"num_classes\": 250,\n",
    "    \"learning_rate\": 0.01,\n",
    "    \"lr_decay_epoch_step_size\": 5,\n",
    "    \"lr_decay_rate\": 0.9,\n",
    "    \"num_trainable_layers\": 2,\n",
    "}\n",
    "\n",
    "# sanity run\n",
    "pl.Trainer(max_steps=1).fit(model=PlantINaturalist2021FinetuneMobileNetv2(config), datamodule=PlantINaturalist2021DataModule(transform=TRANSFORM2))\n",
    "\n",
    "model = PlantINaturalist2021FinetuneMobileNetv2(config)\n",
    "\n",
    "datamodule = PlantINaturalist2021DataModule(transform=TRANSFORM2, batch_size=128, num_workers=2, pin_memory=True, data_dir=\"./\")\n",
    "\n",
    "torchinfo.summary(model)"
   ]
  },
  {
   "cell_type": "code",
   "execution_count": 21,
   "metadata": {},
   "outputs": [
    {
     "data": {
      "text/html": [
       "Finishing last run (ID:qk6jacsk) before initializing another..."
      ],
      "text/plain": [
       "<IPython.core.display.HTML object>"
      ]
     },
     "metadata": {},
     "output_type": "display_data"
    },
    {
     "data": {
      "text/html": [
       "Waiting for W&B process to finish... <strong style=\"color:green\">(success).</strong>"
      ],
      "text/plain": [
       "<IPython.core.display.HTML object>"
      ]
     },
     "metadata": {},
     "output_type": "display_data"
    },
    {
     "data": {
      "text/html": [
       " View run <strong style=\"color:#cdcd00\">virtuous-dragon-24</strong> at: <a href=\"https://wandb.ai/pasoi0stefan/PlantINaturalist/runs/qk6jacsk\" target=\"_blank\">https://wandb.ai/pasoi0stefan/PlantINaturalist/runs/qk6jacsk</a><br/>Synced 5 W&B file(s), 0 media file(s), 0 artifact file(s) and 0 other file(s)"
      ],
      "text/plain": [
       "<IPython.core.display.HTML object>"
      ]
     },
     "metadata": {},
     "output_type": "display_data"
    },
    {
     "data": {
      "text/html": [
       "Find logs at: <code>.\\wandb\\run-20230128_183010-qk6jacsk\\logs</code>"
      ],
      "text/plain": [
       "<IPython.core.display.HTML object>"
      ]
     },
     "metadata": {},
     "output_type": "display_data"
    },
    {
     "data": {
      "text/html": [
       "Successfully finished last run (ID:qk6jacsk). Initializing new run:<br/>"
      ],
      "text/plain": [
       "<IPython.core.display.HTML object>"
      ]
     },
     "metadata": {},
     "output_type": "display_data"
    },
    {
     "data": {
      "text/html": [
       "Tracking run with wandb version 0.13.9"
      ],
      "text/plain": [
       "<IPython.core.display.HTML object>"
      ]
     },
     "metadata": {},
     "output_type": "display_data"
    },
    {
     "data": {
      "text/html": [
       "Run data is saved locally in <code>f:\\test-pytorch\\wandb\\run-20230128_184136-bhl1nyvs</code>"
      ],
      "text/plain": [
       "<IPython.core.display.HTML object>"
      ]
     },
     "metadata": {},
     "output_type": "display_data"
    },
    {
     "data": {
      "text/html": [
       "Syncing run <strong><a href=\"https://wandb.ai/pasoi0stefan/PlantINaturalist/runs/bhl1nyvs\" target=\"_blank\">flashing-fuse-25</a></strong> to <a href=\"https://wandb.ai/pasoi0stefan/PlantINaturalist\" target=\"_blank\">Weights & Biases</a> (<a href=\"https://wandb.me/run\" target=\"_blank\">docs</a>)<br/>"
      ],
      "text/plain": [
       "<IPython.core.display.HTML object>"
      ]
     },
     "metadata": {},
     "output_type": "display_data"
    },
    {
     "data": {
      "text/html": [
       " View project at <a href=\"https://wandb.ai/pasoi0stefan/PlantINaturalist\" target=\"_blank\">https://wandb.ai/pasoi0stefan/PlantINaturalist</a>"
      ],
      "text/plain": [
       "<IPython.core.display.HTML object>"
      ]
     },
     "metadata": {},
     "output_type": "display_data"
    },
    {
     "data": {
      "text/html": [
       " View run at <a href=\"https://wandb.ai/pasoi0stefan/PlantINaturalist/runs/bhl1nyvs\" target=\"_blank\">https://wandb.ai/pasoi0stefan/PlantINaturalist/runs/bhl1nyvs</a>"
      ],
      "text/plain": [
       "<IPython.core.display.HTML object>"
      ]
     },
     "metadata": {},
     "output_type": "display_data"
    }
   ],
   "source": [
    "import wandb\n",
    "import torch\n",
    "from pytorch_lightning.loggers import WandbLogger\n",
    "\n",
    "\n",
    "run = wandb.init(project='PlantINaturalist', config=config)\n"
   ]
  },
  {
   "cell_type": "code",
   "execution_count": 22,
   "metadata": {},
   "outputs": [
    {
     "name": "stderr",
     "output_type": "stream",
     "text": [
      "c:\\Users\\Gamer2\\miniconda3\\envs\\test-pytorch\\lib\\site-packages\\pytorch_lightning\\loggers\\wandb.py:396: UserWarning: There is a wandb run already in progress and newly created instances of `WandbLogger` will reuse this run. If this is not desired, call `wandb.finish()` before instantiating `WandbLogger`.\n",
      "  rank_zero_warn(\n",
      "GPU available: True (cuda), used: True\n",
      "TPU available: False, using: 0 TPU cores\n",
      "IPU available: False, using: 0 IPUs\n",
      "HPU available: False, using: 0 HPUs\n",
      "LOCAL_RANK: 0 - CUDA_VISIBLE_DEVICES: [0]\n",
      "\n",
      "  | Name  | Type        | Params\n",
      "--------------------------------------\n",
      "0 | model | MobileNetV2 | 2.5 M \n",
      "--------------------------------------\n",
      "1.2 M     Trainable params\n",
      "1.3 M     Non-trainable params\n",
      "2.5 M     Total params\n",
      "10.176    Total estimated model params size (MB)\n"
     ]
    },
    {
     "name": "stdout",
     "output_type": "stream",
     "text": [
      "Epoch 57:  63%|██████▎   | 62/99 [00:20<00:12,  3.07it/s, loss=0.533, v_num=nyvs, train_acc_step=0.906, train_loss_step=0.398, val_acc_step=0.485, val_loss_step=2.280, val_acc_epoch=0.395, val_loss_epoch=3.410, train_acc_epoch=0.858, train_loss_epoch=0.526] "
     ]
    },
    {
     "name": "stderr",
     "output_type": "stream",
     "text": [
      "Time limit reached. Elapsed time is 0:30:00. Signaling Trainer to stop.\n"
     ]
    },
    {
     "name": "stdout",
     "output_type": "stream",
     "text": [
      "Epoch 57:  84%|████████▍ | 83/99 [00:29<00:05,  2.83it/s, loss=0.539, v_num=nyvs, train_acc_step=0.883, train_loss_step=0.468, val_acc_step=0.515, val_loss_step=2.110, val_acc_epoch=0.392, val_loss_epoch=3.520, train_acc_epoch=0.861, train_loss_epoch=0.522]\n"
     ]
    }
   ],
   "source": [
    "\n",
    "wandb_logger = WandbLogger()\n",
    "trainer = pl.Trainer(benchmark=True, logger=wandb_logger, max_time=\"00:00:30:00\", accelerator='gpu', devices=1)\n",
    "\n",
    "trainer.fit(model=model, datamodule=datamodule)"
   ]
  },
  {
   "cell_type": "code",
   "execution_count": 23,
   "metadata": {},
   "outputs": [
    {
     "data": {
      "text/html": [
       "Waiting for W&B process to finish... <strong style=\"color:green\">(success).</strong>"
      ],
      "text/plain": [
       "<IPython.core.display.HTML object>"
      ]
     },
     "metadata": {},
     "output_type": "display_data"
    },
    {
     "data": {
      "text/html": [
       "<style>\n",
       "    table.wandb td:nth-child(1) { padding: 0 10px; text-align: left ; width: auto;} td:nth-child(2) {text-align: left ; width: 100%}\n",
       "    .wandb-row { display: flex; flex-direction: row; flex-wrap: wrap; justify-content: flex-start; width: 100% }\n",
       "    .wandb-col { display: flex; flex-direction: column; flex-basis: 100%; flex: 1; padding: 10px; }\n",
       "    </style>\n",
       "<div class=\"wandb-row\"><div class=\"wandb-col\"><h3>Run history:</h3><br/><table class=\"wandb\"><tr><td>epoch</td><td>▁▁▁▁▂▂▂▂▂▃▃▃▃▃▃▄▄▄▄▄▅▅▅▅▅▆▆▆▆▆▆▇▇▇▇▇████</td></tr><tr><td>train_acc_epoch</td><td>▁▁▂▃▃▄▄▄▅▅▅▅▆▆▆▆▆▆▇▇▇▇▇▇▇▇▇▇████████████</td></tr><tr><td>train_acc_step</td><td>▁▂▃▃▃▄▄▄▅▅▅▆▆▆▆▆▆▆▆▆▇▇▇▇▇▇▇▇▇▇▇██████▇██</td></tr><tr><td>train_loss_epoch</td><td>█▇▆▅▅▄▄▄▃▃▃▃▃▂▂▂▂▂▂▂▂▂▂▂▁▁▁▁▁▁▁▁▁▁▁▁▁▁▁▁</td></tr><tr><td>train_loss_step</td><td>█▇▆▅▅▄▄▄▃▃▃▃▂▂▂▂▂▂▂▂▂▂▂▂▂▂▁▁▁▂▂▁▁▁▁▁▁▁▁▁</td></tr><tr><td>trainer/global_step</td><td>▁▁▁▁▁▁▁▁▁▁▃▂▂▂▄▂▂▂▂▂▂▂▂▅▂▂▂▆▂▂▂▃▃▃▃▃█▃▃▃</td></tr><tr><td>val_acc_epoch</td><td>▁▂▃▅▅▆▆▇▇▇▇▇▇▇█▇████████████████▇███████</td></tr><tr><td>val_acc_step</td><td>▁▃▄▄▄▆▅▄▇▅▆▅▅▅▆▅▇▆▆█▆▅▅▅▅▅▅█▆▅█▆▆▆▆▅▆▅█▆</td></tr><tr><td>val_loss_epoch</td><td>█▆▄▃▃▂▁▂▂▁▁▂▁▂▁▂▁▂▂▂▂▂▃▂▂▂▃▂▃▃▂▃▃▃▃▃▃▃▃▃</td></tr><tr><td>val_loss_step</td><td>█▆▄▅▄▃▄▅▁▄▃▄▃▄▃▄▂▃▄▂▄▄▅▄▅▄▄▁▄▆▂▄▅▄▄▄▄▆▂▅</td></tr></table><br/></div><div class=\"wandb-col\"><h3>Run summary:</h3><br/><table class=\"wandb\"><tr><td>epoch</td><td>57</td></tr><tr><td>train_acc_epoch</td><td>0.86074</td></tr><tr><td>train_acc_step</td><td>0.88281</td></tr><tr><td>train_loss_epoch</td><td>0.52166</td></tr><tr><td>train_loss_step</td><td>0.46757</td></tr><tr><td>trainer/global_step</td><td>4565</td></tr><tr><td>val_acc_epoch</td><td>0.3924</td></tr><tr><td>val_acc_step</td><td>0.51471</td></tr><tr><td>val_loss_epoch</td><td>3.51875</td></tr><tr><td>val_loss_step</td><td>2.10612</td></tr></table><br/></div></div>"
      ],
      "text/plain": [
       "<IPython.core.display.HTML object>"
      ]
     },
     "metadata": {},
     "output_type": "display_data"
    },
    {
     "data": {
      "text/html": [
       " View run <strong style=\"color:#cdcd00\">flashing-fuse-25</strong> at: <a href=\"https://wandb.ai/pasoi0stefan/PlantINaturalist/runs/bhl1nyvs\" target=\"_blank\">https://wandb.ai/pasoi0stefan/PlantINaturalist/runs/bhl1nyvs</a><br/>Synced 5 W&B file(s), 0 media file(s), 1 artifact file(s) and 0 other file(s)"
      ],
      "text/plain": [
       "<IPython.core.display.HTML object>"
      ]
     },
     "metadata": {},
     "output_type": "display_data"
    },
    {
     "data": {
      "text/html": [
       "Find logs at: <code>.\\wandb\\run-20230128_184136-bhl1nyvs\\logs</code>"
      ],
      "text/plain": [
       "<IPython.core.display.HTML object>"
      ]
     },
     "metadata": {},
     "output_type": "display_data"
    }
   ],
   "source": [
    "torch.save(model.state_dict(), 'model.pth')\n",
    "artifact = wandb.Artifact('model', type='model')\n",
    "artifact.add_file('model.pth')\n",
    "run.log_artifact(artifact)\n",
    "\n",
    "run.finish()"
   ]
  },
  {
   "cell_type": "code",
   "execution_count": 25,
   "metadata": {},
   "outputs": [
    {
     "data": {
      "text/plain": [
       "Parameter containing:\n",
       "tensor([[-6.6358e-01,  9.9875e-02,  5.9504e-01,  ..., -1.0413e+00,\n",
       "          2.7859e-01, -4.8532e-01],\n",
       "        [-1.7687e-01, -2.0609e-01, -2.1675e-01,  ..., -2.8517e+00,\n",
       "         -4.5052e-01, -1.7546e-03],\n",
       "        [-6.7904e-01, -5.0580e-01, -4.9942e-02,  ..., -2.1573e-01,\n",
       "         -1.0884e-01, -3.5382e-01],\n",
       "        ...,\n",
       "        [ 1.7749e-01, -8.1939e-01, -9.0712e-01,  ...,  7.3891e-03,\n",
       "         -3.4834e-01, -8.5776e-01],\n",
       "        [ 1.0856e-01, -1.1076e+00, -7.1631e-01,  ...,  5.9486e-01,\n",
       "         -3.2481e-01,  1.9371e-01],\n",
       "        [-9.7422e-01, -1.2256e+00, -6.9883e-01,  ..., -6.0347e-03,\n",
       "         -7.2333e-01, -1.3784e+00]], requires_grad=True)"
      ]
     },
     "execution_count": 25,
     "metadata": {},
     "output_type": "execute_result"
    }
   ],
   "source": [
    "next(model.model.classifier.parameters())"
   ]
  },
  {
   "cell_type": "code",
   "execution_count": 24,
   "metadata": {},
   "outputs": [
    {
     "data": {
      "text/html": [
       "Tracking run with wandb version 0.13.9"
      ],
      "text/plain": [
       "<IPython.core.display.HTML object>"
      ]
     },
     "metadata": {},
     "output_type": "display_data"
    },
    {
     "data": {
      "text/html": [
       "Run data is saved locally in <code>f:\\test-pytorch\\wandb\\run-20230128_192759-xp4yx2i4</code>"
      ],
      "text/plain": [
       "<IPython.core.display.HTML object>"
      ]
     },
     "metadata": {},
     "output_type": "display_data"
    },
    {
     "data": {
      "text/html": [
       "Syncing run <strong><a href=\"https://wandb.ai/pasoi0stefan/uncategorized/runs/xp4yx2i4\" target=\"_blank\">fortuitous-fish-5</a></strong> to <a href=\"https://wandb.ai/pasoi0stefan/uncategorized\" target=\"_blank\">Weights & Biases</a> (<a href=\"https://wandb.me/run\" target=\"_blank\">docs</a>)<br/>"
      ],
      "text/plain": [
       "<IPython.core.display.HTML object>"
      ]
     },
     "metadata": {},
     "output_type": "display_data"
    },
    {
     "data": {
      "text/html": [
       " View project at <a href=\"https://wandb.ai/pasoi0stefan/uncategorized\" target=\"_blank\">https://wandb.ai/pasoi0stefan/uncategorized</a>"
      ],
      "text/plain": [
       "<IPython.core.display.HTML object>"
      ]
     },
     "metadata": {},
     "output_type": "display_data"
    },
    {
     "data": {
      "text/html": [
       " View run at <a href=\"https://wandb.ai/pasoi0stefan/uncategorized/runs/xp4yx2i4\" target=\"_blank\">https://wandb.ai/pasoi0stefan/uncategorized/runs/xp4yx2i4</a>"
      ],
      "text/plain": [
       "<IPython.core.display.HTML object>"
      ]
     },
     "metadata": {},
     "output_type": "display_data"
    },
    {
     "name": "stderr",
     "output_type": "stream",
     "text": [
      "\u001b[34m\u001b[1mwandb\u001b[0m:   1 of 1 files downloaded.  \n"
     ]
    },
    {
     "data": {
      "text/html": [
       "Waiting for W&B process to finish... <strong style=\"color:green\">(success).</strong>"
      ],
      "text/plain": [
       "<IPython.core.display.HTML object>"
      ]
     },
     "metadata": {},
     "output_type": "display_data"
    },
    {
     "data": {
      "text/html": [
       " View run <strong style=\"color:#cdcd00\">fortuitous-fish-5</strong> at: <a href=\"https://wandb.ai/pasoi0stefan/uncategorized/runs/xp4yx2i4\" target=\"_blank\">https://wandb.ai/pasoi0stefan/uncategorized/runs/xp4yx2i4</a><br/>Synced 5 W&B file(s), 0 media file(s), 0 artifact file(s) and 0 other file(s)"
      ],
      "text/plain": [
       "<IPython.core.display.HTML object>"
      ]
     },
     "metadata": {},
     "output_type": "display_data"
    },
    {
     "data": {
      "text/html": [
       "Find logs at: <code>.\\wandb\\run-20230128_192759-xp4yx2i4\\logs</code>"
      ],
      "text/plain": [
       "<IPython.core.display.HTML object>"
      ]
     },
     "metadata": {},
     "output_type": "display_data"
    }
   ],
   "source": [
    "import wandb\n",
    "run = wandb.init()\n",
    "\n",
    "\n",
    "artifact = run.use_artifact('pasoi0stefan/PlantINaturalist/model:v10', type='model')\n",
    "artifact_dir = artifact.download()\n",
    "\n",
    "\n",
    "run.finish()\n"
   ]
  },
  {
   "cell_type": "code",
   "execution_count": 27,
   "metadata": {},
   "outputs": [
    {
     "data": {
      "text/plain": [
       "<All keys matched successfully>"
      ]
     },
     "execution_count": 27,
     "metadata": {},
     "output_type": "execute_result"
    }
   ],
   "source": [
    "model_artifact = PlantINaturalist2021FinetuneMobileNetv2(config)\n",
    "model_artifact.load_state_dict(torch.load(f\"{artifact_dir}/model.pth\"))"
   ]
  },
  {
   "cell_type": "code",
   "execution_count": 28,
   "metadata": {},
   "outputs": [
    {
     "data": {
      "text/plain": [
       "Parameter containing:\n",
       "tensor([[-6.6358e-01,  9.9875e-02,  5.9504e-01,  ..., -1.0413e+00,\n",
       "          2.7859e-01, -4.8532e-01],\n",
       "        [-1.7687e-01, -2.0609e-01, -2.1675e-01,  ..., -2.8517e+00,\n",
       "         -4.5052e-01, -1.7546e-03],\n",
       "        [-6.7904e-01, -5.0580e-01, -4.9942e-02,  ..., -2.1573e-01,\n",
       "         -1.0884e-01, -3.5382e-01],\n",
       "        ...,\n",
       "        [ 1.7749e-01, -8.1939e-01, -9.0712e-01,  ...,  7.3891e-03,\n",
       "         -3.4834e-01, -8.5776e-01],\n",
       "        [ 1.0856e-01, -1.1076e+00, -7.1631e-01,  ...,  5.9486e-01,\n",
       "         -3.2481e-01,  1.9371e-01],\n",
       "        [-9.7422e-01, -1.2256e+00, -6.9883e-01,  ..., -6.0347e-03,\n",
       "         -7.2333e-01, -1.3784e+00]], requires_grad=True)"
      ]
     },
     "execution_count": 28,
     "metadata": {},
     "output_type": "execute_result"
    }
   ],
   "source": [
    "next(model_artifact.model.classifier.parameters())"
   ]
  },
  {
   "cell_type": "code",
   "execution_count": null,
   "metadata": {},
   "outputs": [],
   "source": []
  }
 ],
 "metadata": {
  "kernelspec": {
   "display_name": "test-pytorch",
   "language": "python",
   "name": "python3"
  },
  "language_info": {
   "codemirror_mode": {
    "name": "ipython",
    "version": 3
   },
   "file_extension": ".py",
   "mimetype": "text/x-python",
   "name": "python",
   "nbconvert_exporter": "python",
   "pygments_lexer": "ipython3",
   "version": "3.10.9"
  },
  "orig_nbformat": 4,
  "vscode": {
   "interpreter": {
    "hash": "8ddb299a13d2af08c67c36ca20e80947019e09e59494d2443849c5940fcefaa3"
   }
  }
 },
 "nbformat": 4,
 "nbformat_minor": 2
}
