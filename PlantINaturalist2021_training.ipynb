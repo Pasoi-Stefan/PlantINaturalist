{
 "cells": [
  {
   "cell_type": "code",
   "execution_count": null,
   "metadata": {},
   "outputs": [],
   "source": [
    "\n",
    "%load_ext autoreload\n",
    "%autoreload 2\n",
    "\n",
    "import copy\n",
    "import pytorch_lightning as pl\n",
    "import torchinfo\n",
    "import torchvision.transforms as transforms\n",
    "\n",
    "from PlantINaturalist2021DataModule import PlantINaturalist2021DataModule\n",
    "from PlantINaturalist2021FinetuneMobileNetv2 import PlantINaturalist2021FinetuneMobileNetv2, TRANSFORM2\n",
    "\n",
    "config = {\n",
    "    \"model_name\": PlantINaturalist2021FinetuneMobileNetv2.__name__,\n",
    "    \"num_classes\": 250,\n",
    "    \"learning_rate\": 0.01,\n",
    "    \"lr_decay_epoch_step_size\": 5,\n",
    "    \"lr_decay_rate\": 0.9,\n",
    "    \"num_trainable_layers\": 2,\n",
    "}\n",
    "\n",
    "# sanity run\n",
    "pl.Trainer(max_steps=5).fit(model=PlantINaturalist2021FinetuneMobileNetv2(config), datamodule=PlantINaturalist2021DataModule(transform=TRANSFORM2, context = \"retrain\"))\n",
    "\n",
    "model = PlantINaturalist2021FinetuneMobileNetv2(config)\n",
    "\n",
    "datamodule = PlantINaturalist2021DataModule(transform=TRANSFORM2, context=\"train\", batch_size=32, num_workers=2, pin_memory=True, data_dir=\"./\")\n",
    "\n",
    "torchinfo.summary(model)"
   ]
  },
  {
   "cell_type": "code",
   "execution_count": null,
   "metadata": {},
   "outputs": [],
   "source": [
    "import wandb\n",
    "import torch\n",
    "from pytorch_lightning.loggers import WandbLogger\n",
    "\n",
    "\n",
    "run = wandb.init(project='PlantINaturalist', config=config)\n"
   ]
  },
  {
   "cell_type": "code",
   "execution_count": null,
   "metadata": {},
   "outputs": [],
   "source": [
    "\n",
    "wandb_logger = WandbLogger()\n",
    "trainer = pl.Trainer(benchmark=True, logger=wandb_logger, max_epochs=35, accelerator='gpu', devices=1)\n",
    "\n",
    "trainer.fit(model=model, datamodule=datamodule)"
   ]
  },
  {
   "cell_type": "code",
   "execution_count": null,
   "metadata": {
    "scrolled": true
   },
   "outputs": [],
   "source": [
    "torch.save(model.state_dict(), 'model.pth')\n",
    "artifact = wandb.Artifact('model', type='model')\n",
    "artifact.add_file('model.pth')\n",
    "run.log_artifact(artifact)\n",
    "\n",
    "run.finish()"
   ]
  },
  {
   "cell_type": "code",
   "execution_count": null,
   "metadata": {},
   "outputs": [],
   "source": [
    "next(model.model.classifier.parameters())"
   ]
  },
  {
   "cell_type": "code",
   "execution_count": null,
   "metadata": {},
   "outputs": [],
   "source": [
    "import wandb\n",
    "artifact = run.use_artifact('pasoi0stefan/PlantINaturalist/model:v11', type='model')\n",
    "artifact_dir = artifact.download()"
   ]
  },
  {
   "cell_type": "code",
   "execution_count": null,
   "metadata": {},
   "outputs": [],
   "source": [
    "model_artifact = PlantINaturalist2021FinetuneMobileNetv2(config)\n",
    "model_artifact.load_state_dict(torch.load(f\"{artifact_dir}/model.pth\"))"
   ]
  },
  {
   "cell_type": "code",
   "execution_count": null,
   "metadata": {},
   "outputs": [],
   "source": [
    "#FINETUNE\n",
    "wandb_logger = WandbLogger()\n",
    "model_finetune = PlantINaturalist2021FinetuneMobileNetv2(config)\n",
    "print(next(model_finetune.model.classifier.parameters())[:2])\n",
    "model_finetune.load_state_dict(torch.load(f\"{artifact_dir}/model.pth\"))\n",
    "print(next(model_finetune.model.classifier.parameters())[:2])\n",
    "model_finetune.learning_rate = 0.001\n",
    "model_finetune.configure_optimizers()\n",
    "datamodule_finetune = PlantINaturalist2021DataModule(transform=TRANSFORM2, context=\"finetune\", batch_size=32, num_workers=1, pin_memory=True, data_dir=\"./\")\n",
    "trainer = pl.Trainer(benchmark=True, logger=wandb_logger, max_epochs = 20, accelerator='gpu', devices=1)\n",
    "trainer.fit(model=model_finetune, datamodule=datamodule_finetune)\n",
    "torch.save(model_finetune.state_dict(), 'finetuned_model.pth')\n",
    "artifact = wandb.Artifact('finetuned_model', type='model')\n",
    "artifact.add_file('finetuned_model.pth')\n",
    "run.log_artifact(artifact)\n",
    "run.finish()"
   ]
  },
  {
   "cell_type": "code",
   "execution_count": null,
   "metadata": {},
   "outputs": [],
   "source": [
    "#FINETUNE 2\n",
    "wandb_logger = WandbLogger()\n",
    "model_finetune = PlantINaturalist2021FinetuneMobileNetv2(config)\n",
    "print(next(model_finetune.model.classifier.parameters())[:2])\n",
    "model_finetune.load_state_dict(torch.load(f\"{artifact_dir}/model.pth\"))\n",
    "print(next(model_finetune.model.classifier.parameters())[:2])\n",
    "model_finetune.configure_optimizers()\n",
    "datamodule_finetune = PlantINaturalist2021DataModule(transform=TRANSFORM2, context=\"retrain\", batch_size=32, num_workers=1, pin_memory=True, data_dir=\"./\")\n",
    "trainer = pl.Trainer(benchmark=True, logger=wandb_logger, max_epochs = 10, accelerator='gpu', devices=1)\n",
    "trainer.fit(model=model_finetune, datamodule=datamodule_finetune)\n",
    "torch.save(model_finetune.state_dict(), 'finetuned_model2.pth')\n",
    "artifact = wandb.Artifact('finetuned_model2', type='model')\n",
    "artifact.add_file('finetuned_model2.pth')\n",
    "run.log_artifact(artifact)\n",
    "run.finish()"
   ]
  },
  {
   "cell_type": "code",
   "execution_count": null,
   "metadata": {},
   "outputs": [],
   "source": [
    "#RETRAIN\n",
    "wandb.finish()\n",
    "run = wandb.init()\n",
    "wandb_logger = WandbLogger()\n",
    "model_retrain = PlantINaturalist2021FinetuneMobileNetv2(config)\n",
    "datamodule_retrain = PlantINaturalist2021DataModule(transform=TRANSFORM2, context=\"retrain\", batch_size=32, num_workers=1, pin_memory=True, data_dir=\"./\")\n",
    "trainer = pl.Trainer(benchmark=True, logger=wandb_logger, max_epochs = 40, accelerator='gpu', devices=1)\n",
    "trainer.fit(model=model_retrain, datamodule=datamodule_retrain)\n",
    "torch.save(model_retrain.state_dict(), 'retrained_model.pth')\n",
    "artifact = wandb.Artifact('retrained_model', type='model')\n",
    "artifact.add_file('retrained_model.pth')\n",
    "run.log_artifact(artifact)\n",
    "run.finish()"
   ]
  },
  {
   "cell_type": "code",
   "execution_count": null,
   "metadata": {},
   "outputs": [],
   "source": [
    "next(model_artifact.model.classifier.parameters())"
   ]
  },
  {
   "cell_type": "code",
   "execution_count": null,
   "metadata": {},
   "outputs": [],
   "source": []
  }
 ],
 "metadata": {
  "kernelspec": {
   "display_name": "Python 3 (ipykernel)",
   "language": "python",
   "name": "python3"
  },
  "language_info": {
   "codemirror_mode": {
    "name": "ipython",
    "version": 3
   },
   "file_extension": ".py",
   "mimetype": "text/x-python",
   "name": "python",
   "nbconvert_exporter": "python",
   "pygments_lexer": "ipython3",
   "version": "3.8.8 (default, Apr 13 2021, 15:08:03) [MSC v.1916 64 bit (AMD64)]"
  },
  "vscode": {
   "interpreter": {
    "hash": "a04f5d07b0747026a8fbcdf50b9443318e69b1b8bd6247d88bfadb4789282972"
   }
  }
 },
 "nbformat": 4,
 "nbformat_minor": 2
}
